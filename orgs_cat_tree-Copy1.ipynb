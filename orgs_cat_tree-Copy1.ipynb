{
 "cells": [
  {
   "cell_type": "code",
   "execution_count": 19,
   "metadata": {},
   "outputs": [],
   "source": [
    "org_hier_dialog = [\n",
    "    \n",
    "    \n",
    "    {'node_id':-1, 'text': 'Вы имели в виду?','type':'show_orgs','extra_orgs_list':[], 'intents_list':[], 'back_node_id':0, 'l_str_bound_eq':'', 'r_str_bound_neq':''},\n",
    "        \n",
    "    {'node_id':-2, 'text': 'Сейчас открыты: '  , 'type':'show_orgs','extra_orgs_list':[], 'intents_list':[], 'back_node_id':0, 'l_str_bound_eq':'', 'r_str_bound_neq':''},\n",
    "    {'node_id':-3, 'text': 'Я Вас не понимаю!' , 'type':'dnode','btns':[]},\n",
    "\n",
    "    \n",
    "    {'node_id':0, 'text': 'Что вы ищете?', 'type':'dnode',\n",
    "                                      'btns':[{'text':'Магазины', 'dest':1}, \n",
    "                                              {'text':'Рестораны и кафе', 'dest':2},\n",
    "                                              {'text':'Услуги', 'dest':3},\n",
    "                                              {'text':'Развлечения', 'dest':4},\n",
    "                                              {'text':'Банкоматы', 'dest':26},\n",
    "                                              {'text':'Парковка', 'dest':37},\n",
    "                                              {'text':'Туалеты', 'dest':38}]},\n",
    " \n",
    " \n",
    "    {'node_id':1, 'text': 'Магазины\\nКакие именно Вам интересны?', 'type':'dnode','btns':\n",
    "                                             [{'text':'Одежда', 'dest':33}, \n",
    "                                              {'text':'Верхняя одежда', 'dest':40}, \n",
    "                                              {'text':'Продукты', 'dest':6},\n",
    "                                              {'text':'Детские товары', 'dest':7},\n",
    "                                              {'text':'Обувь и сумки', 'dest':8},\n",
    "                                              {'text':'Товары для дома', 'dest':9}, \n",
    "                                              {'text':'Мобильные телефоны', 'dest':10},\n",
    "                                              {'text':'Нижнее белье', 'dest':11},\n",
    "                                              {'text':'Оптика', 'dest':12},\n",
    "                                              {'text':'Парфюмерия и косметика', 'dest':13}, \n",
    "                                              {'text':'Подарки', 'dest':30}, \n",
    "                                              {'text':'Спец. Магазины', 'dest':14},\n",
    "                                              {'text':'Спортивные товары', 'dest':15},\n",
    "                                              {'text':'Электроника', 'dest':16},   \n",
    "                                              {'text':'Ювелирные изделия и часы', 'dest':17}, \n",
    "                                              {'text':'Аксессуары', 'dest':18},\n",
    "                                              {'text':'Книги', 'dest':32},\n",
    "                                              {'text':'Назад', 'dest':0}\n",
    "                                             ]},\n",
    " \n",
    "                                               \n",
    "{'node_id':2, 'text': 'Рестораны и кафе.\\nЧто вы ищете?','type':'dnode', 'btns':[{'text':'Рестораны', 'dest':19}, \n",
    "                                              {'text':'Кафе и фудкорт', 'dest':20},\n",
    "                                              {'text':'Назад', 'dest':0}\n",
    "                                              ]},\n",
    " \n",
    " \n",
    "{'node_id':3, 'text': 'Услуги. \\nЧто вы ищете?','type':'dnode', 'btns':[\n",
    "                                              {'text':'Банки', 'dest':21}, \n",
    "                                              {'text':'Аптека', 'dest':31}, \n",
    "                                              {'text':'Салоны красоты', 'dest':22},\n",
    "                                              {'text':'Бытовые услуги', 'dest':23},\n",
    "                                              {'text':'Туризм и отдых', 'dest':24},\n",
    "                                              {'text':'Химчистка', 'dest':25}, \n",
    "                                              {'text':'Выдача заказов', 'dest':27},\n",
    "                                              {'text':'Упаковка подарков', 'dest':28},\n",
    "                                              {'text':'Другие услуги', 'dest':29},\n",
    "                                              {'text':'Назад', 'dest':0}]}, \n",
    "\n",
    "                   \n",
    "                   \n",
    " {'node_id':33, 'text': 'Одежда. \\nВыберете часть?','type':'dnode', 'btns':[\n",
    "                                              {'text':'A-L', 'dest':34}, \n",
    "                                              {'text':'L-Я', 'dest':35}]},\n",
    "                   \n",
    "                   \n",
    " {'node_id':37, 'text': 'Ресположение уборных.','type':'show_orgs','extra_orgs_list':[], 'intents_list':[], 'back_node_id':0, 'l_str_bound_eq':'', 'r_str_bound_neq':''},\n",
    " {'node_id':38, 'text': 'Парковка.','type':'show_orgs','extra_orgs_list':[], 'intents_list':[], 'back_node_id':0, 'l_str_bound_eq':'', 'r_str_bound_neq':''},\n",
    "                   \n",
    " {'node_id':34, 'text': 'Одежда. A-L','type':'show_orgs','extra_orgs_list':[], 'intents_list':[], 'back_node_id':0, 'l_str_bound_eq':'', 'r_str_bound_neq':'L'},                   \n",
    " {'node_id':35, 'text': 'Одежда. L-Я','type':'show_orgs','extra_orgs_list':[], 'intents_list':[], 'back_node_id':0, 'l_str_bound_eq':'L', 'r_str_bound_neq':''},                 \n",
    " \n",
    " {'node_id':4, 'text': 'Развлечения.','type':'show_orgs','extra_orgs_list':[], 'intents_list':[], 'back_node_id':0, 'l_str_bound_eq':'', 'r_str_bound_neq':''},\n",
    "                   \n",
    " {'node_id':5, 'text': 'Одежда.','type':'show_orgs','extra_orgs_list':[], 'intents_list':[], 'back_node_id':1, 'l_str_bound_eq':'', 'r_str_bound_neq':''},\n",
    " {'node_id':6, 'text': 'Продукты.','type':'show_orgs','extra_orgs_list':[], 'intents_list':[], 'back_node_id':1, 'l_str_bound_eq':'', 'r_str_bound_neq':''},\n",
    " {'node_id':7, 'text': 'Детские товары.','type':'show_orgs','extra_orgs_list':[], 'intents_list':[], 'back_node_id':1, 'l_str_bound_eq':'', 'r_str_bound_neq':''},\n",
    " {'node_id':8, 'text': 'Обувь и сумки.','type':'show_orgs','extra_orgs_list':[], 'intents_list':[], 'back_node_id':1, 'l_str_bound_eq':'', 'r_str_bound_neq':''},\n",
    " {'node_id':9, 'text': 'Товары для дома.','type':'show_orgs','extra_orgs_list':[], 'intents_list':[], 'back_node_id':1, 'l_str_bound_eq':'', 'r_str_bound_neq':''},\n",
    " {'node_id':10, 'text': 'Мобильные телефоны.','type':'show_orgs','extra_orgs_list':[], 'intents_list':[], 'back_node_id':1, 'l_str_bound_eq':'', 'r_str_bound_neq':''},\n",
    " {'node_id':11, 'text': 'Нижнее белье.','type':'show_orgs','extra_orgs_list':[], 'intents_list':[], 'back_node_id':1, 'l_str_bound_eq':'', 'r_str_bound_neq':''},\n",
    " {'node_id':12, 'text': 'Оптика.','type':'show_orgs','extra_orgs_list':[], 'intents_list':[], 'back_node_id':1, 'l_str_bound_eq':'', 'r_str_bound_neq':''},\n",
    " {'node_id':13, 'text': 'Парфюмерия и косметика.','type':'show_orgs','extra_orgs_list':[], 'intents_list':[], 'back_node_id':1, 'l_str_bound_eq':'', 'r_str_bound_neq':''},\n",
    " {'node_id':14, 'text': 'Спец. Магазины.','type':'show_orgs','extra_orgs_list':[], 'intents_list':[], 'back_node_id':1, 'l_str_bound_eq':'', 'r_str_bound_neq':''},\n",
    " {'node_id':15, 'text': 'Спортивные товары.','type':'show_orgs','extra_orgs_list':[], 'intents_list':[], 'back_node_id':1, 'l_str_bound_eq':'', 'r_str_bound_neq':''},\n",
    " {'node_id':16, 'text': 'Электроника.','type':'show_orgs','extra_orgs_list':[], 'intents_list':[], 'back_node_id':1, 'l_str_bound_eq':'', 'r_str_bound_neq':''},\n",
    " {'node_id':17, 'text': 'Ювелирные изделия и часы.','type':'show_orgs','extra_orgs_list':[], 'intents_list':[], 'back_node_id':1, 'l_str_bound_eq':'', 'r_str_bound_neq':''},\n",
    " {'node_id':18, 'text': 'Аксессуары.','type':'show_orgs','extra_orgs_list':[], 'intents_list':[], 'back_node_id':1, 'l_str_bound_eq':'', 'r_str_bound_neq':''},\n",
    " {'node_id':40, 'text': 'Верхняя одежда','type':'show_orgs','extra_orgs_list':[], 'intents_list':[], 'back_node_id':1, 'l_str_bound_eq':'', 'r_str_bound_neq':''},                 \n",
    "                   \n",
    " {'node_id':19, 'text': 'Рестораны.','type':'show_orgs','extra_orgs_list':[], 'intents_list':[], 'back_node_id':2, 'l_str_bound_eq':'', 'r_str_bound_neq':''},\n",
    " {'node_id':20, 'text': 'Кафе и фудкорт.','type':'show_orgs','extra_orgs_list':[], 'intents_list':[], 'back_node_id':2, 'l_str_bound_eq':'', 'r_str_bound_neq':''},\n",
    " {'node_id':39, 'text': 'Сладости','type':'show_orgs','extra_orgs_list':[], 'intents_list':[], 'back_node_id':2, 'l_str_bound_eq':'', 'r_str_bound_neq':''},\n",
    "                   \n",
    "                   \n",
    " {'node_id':21, 'text': 'Банки.','type':'show_orgs','extra_orgs_list':[], 'intents_list':[], 'back_node_id':3, 'l_str_bound_eq':'', 'r_str_bound_neq':''},\n",
    " {'node_id':22, 'text': 'Салоны красоты.','type':'show_orgs','extra_orgs_list':[], 'intents_list':[],'back_node_id':3, 'l_str_bound_eq':'', 'r_str_bound_neq':''},\n",
    " {'node_id':23, 'text': 'Бытовые услуги.','type':'show_orgs','extra_orgs_list':[], 'intents_list':[],'back_node_id':3, 'l_str_bound_eq':'', 'r_str_bound_neq':''},\n",
    " {'node_id':24, 'text': 'Туризм и отдых.','type':'show_orgs','extra_orgs_list':[], 'intents_list':[],'back_node_id':3, 'l_str_bound_eq':'', 'r_str_bound_neq':''},\n",
    " {'node_id':25, 'text': 'Химчистка.','type':'show_orgs','extra_orgs_list':[], 'intents_list':[],'back_node_id':3, 'l_str_bound_eq':'', 'r_str_bound_neq':''},\n",
    " {'node_id':26, 'text': 'Банкоматы.','type':'show_orgs','extra_orgs_list':[], 'intents_list':[],'back_node_id':3, 'l_str_bound_eq':'', 'r_str_bound_neq':''},\n",
    " {'node_id':27, 'text': 'Выдача заказов.','type':'show_orgs','extra_orgs_list':[], 'intents_list':[],'back_node_id':3, 'l_str_bound_eq':'', 'r_str_bound_neq':''},\n",
    " {'node_id':28, 'text': 'Упаковка подарков.','type':'show_orgs','extra_orgs_list':[], 'intents_list':[],'back_node_id':3, 'l_str_bound_eq':'', 'r_str_bound_neq':''},\n",
    " {'node_id':29, 'text': 'Другие услуги','type':'show_orgs','extra_orgs_list':[], 'intents_list':[],'back_node_id':3, 'l_str_bound_eq':'', 'r_str_bound_neq':''},\n",
    " {'node_id':30, 'text': 'Подарки','type':'show_orgs','extra_orgs_list':[], 'intents_list':[], 'back_node_id':1, 'l_str_bound_eq':'', 'r_str_bound_neq':''},\n",
    " {'node_id':31, 'text': 'Аптека','type':'show_orgs','extra_orgs_list':[], 'intents_list':[],'back_node_id':3, 'l_str_bound_eq':'', 'r_str_bound_neq':''},\n",
    " {'node_id':32, 'text': 'Книги','type':'show_orgs','extra_orgs_list':[], 'intents_list':[], 'back_node_id':1, 'l_str_bound_eq':'', 'r_str_bound_neq':''},\n",
    "                   \n",
    "]"
   ]
  },
  {
   "cell_type": "code",
   "execution_count": 20,
   "metadata": {},
   "outputs": [],
   "source": [
    "intent_to_node_leafs = [('sport', [15]),\n",
    "('manikur', [22]),\n",
    "('underwear', [11]),\n",
    "('clothes', [34,35]),\n",
    "('tabac', [14]),\n",
    "('galantereya', [8]),\n",
    "('mekh', [5]),\n",
    "('optics', [12]),\n",
    "('mobile', [10]),\n",
    "('copy_centr', [29]),\n",
    "('juveliry', [17]),\n",
    "('flowers', [30]),\n",
    "('book_media', [32]),\n",
    "('kosmetics',[13]),\n",
    "('posuda', [9]),\n",
    "('pharmacy', [31]),\n",
    "('no_cat', [14]),\n",
    "('dom_byta_remont', [23]),\n",
    "('himchistka', [25]),\n",
    "('tur_agentstvo', [24]),\n",
    "('food', [6]),\n",
    "('animals', [14]),\n",
    " ( 'art_creativity', [14]),\n",
    " ( 'bijuteriaya', [18]),\n",
    " ( 'cinema', [4]),\n",
    " ( 'deti',[7] ),\n",
    " ( 'electronics',[16]),\n",
    " ( 'foodcourt', [20]),\n",
    " ( 'hoz_mag', [9]), \n",
    " ( 'restorants', [19]),\n",
    " ( 'upakovka', [28]),\n",
    " ( 'wc', [37] ),\n",
    " ('home', [9]),\n",
    " ('salon_krasoty', [22]),\n",
    " ('verhnyaya_clothes', [40]),\n",
    " ('sladosti', [39]),\n",
    " ('watch', [17]),\n",
    " ('podarki_media', [30]),\n",
    " ('book', [32]),\n",
    " ('bakomat', [26]),\n",
    " ('parking', [38]),\n",
    " ('ukn', [-3])]\n",
    "\n",
    "intent_to_node_leafs = {k:v for k, v in intent_to_node_leafs }"
   ]
  },
  {
   "cell_type": "code",
   "execution_count": 21,
   "metadata": {},
   "outputs": [],
   "source": [
    "import json\n",
    "for elem in org_hier_dialog:\n",
    "    if elem['type'] != 'show_orgs':\n",
    "        continue\n",
    "    elem['intents_list']+=[k for k, v in intent_to_node_leafs.items() if elem['node_id'] in v]\n",
    "#json.dump(org_hier_dialog, open('org_hier_dialog.json', 'w'))"
   ]
  },
  {
   "cell_type": "code",
   "execution_count": null,
   "metadata": {},
   "outputs": [],
   "source": []
  },
  {
   "cell_type": "code",
   "execution_count": null,
   "metadata": {},
   "outputs": [],
   "source": []
  },
  {
   "cell_type": "code",
   "execution_count": null,
   "metadata": {},
   "outputs": [],
   "source": []
  },
  {
   "cell_type": "code",
   "execution_count": 22,
   "metadata": {},
   "outputs": [],
   "source": [
    "intent_to_node = [('sport', [15]),\n",
    "('manikur', [22]),\n",
    "('underwear', [11]),\n",
    "('clothes', [33]),\n",
    "('tabac', [14]),\n",
    "('galantereya', [8]),\n",
    "('mekh', [5]),\n",
    "('optics', [12]),\n",
    "('mobile', [10]),\n",
    "('copy_centr', [29]),\n",
    "('juveliry', [17]),\n",
    "('flowers', [30]),\n",
    "('book_media', [32]),\n",
    "('kosmetics',[13]),\n",
    "('posuda', [9]),\n",
    "('pharmacy', [31]),\n",
    "('no_cat', [14]),\n",
    "('dom_byta_remont', [23]),\n",
    "('himchistka', [25]),\n",
    "('tur_agentstvo', [24]),\n",
    "('food', [6]),\n",
    "('animals', [14]),\n",
    " ( 'art_creativity', [14]),\n",
    " ( 'bijuteriaya', [18]),\n",
    " ( 'cinema', [4]),\n",
    " ( 'deti',[7] ),\n",
    " ( 'electronics',[16]),\n",
    " ( 'foodcourt', [20]),\n",
    " ( 'hoz_mag', [9]), \n",
    " ( 'restorants', [19]),\n",
    " ( 'upakovka', [28]),\n",
    " ( 'wc', [37] ),\n",
    " ('home', [9]),\n",
    " ('salon_krasoty', [22]),\n",
    " ('verhnyaya_clothes', [40]),\n",
    " ('sladosti', [39]),\n",
    " ('watch', [17]),\n",
    " ('podarki_media', [30]),\n",
    " ('book', [32]),\n",
    " ('bakomat', [26]),\n",
    " ('parking', [38]),\n",
    " ('ukn', [-3])]\n",
    "\n",
    "intent_to_node = {k:v[0] for k, v in intent_to_node }"
   ]
  },
  {
   "cell_type": "code",
   "execution_count": 23,
   "metadata": {},
   "outputs": [],
   "source": [
    "welcome_text = \\\n",
    "\"👋Добро пожаловать в тц Метрополис! \\n\" \\\n",
    "\"🤖Я информационный бот для помощи посетителям.\\n\" \\\n",
    "\"🔎Пишите мне что хотите найти - и я отвечу где искать.\\n\\n\" \\\n",
    "\"👌Например: 'хочу купить ботинки' или 'где найти подарки' или 'у вас тут есть кинотеатр?'\\n\\n\" \\\n",
    "\"/spisok - посмотреть общий список организаций и услуг\\n\" \\\n",
    "\"/opened - посмотреть список организаций, которые сегодня открыты\\n\\n\" \\\n",
    "\"😍Подписывайтесь на любимые магазины, и мы уведомим вас об их открытии!\\n\\n\" \\\n",
    "\"🏎Ну, понеслась!\""
   ]
  },
  {
   "cell_type": "code",
   "execution_count": 24,
   "metadata": {},
   "outputs": [],
   "source": [
    "tc_config = {'org_hier_dialog':org_hier_dialog, \n",
    "             'intent_to_node':intent_to_node, \n",
    "             'token':'1233905933:AAG-AZJraKsxq_AXuAxVvMwOfmF8Q12TV0I',\n",
    "             'load_data_pickle_path':'metropolis_to_load.pickle',\n",
    "             'welcome_photo_url':'https://www.malls.ru/upload/medialibrary/a89/metropolis.jpg',\n",
    "             'welcome_text':welcome_text, \n",
    "            'model_api_url':'http://127.0.0.1:8000/model/?format=json'}"
   ]
  },
  {
   "cell_type": "code",
   "execution_count": 25,
   "metadata": {},
   "outputs": [],
   "source": [
    "json.dump(tc_config, open('metropolis_config.json', 'w'))"
   ]
  },
  {
   "cell_type": "code",
   "execution_count": null,
   "metadata": {},
   "outputs": [],
   "source": []
  },
  {
   "cell_type": "code",
   "execution_count": 26,
   "metadata": {},
   "outputs": [],
   "source": [
    "import pandas as pd\n",
    "df = pd.read_pickle('metropolis_to_load.pickle')\n",
    "\n"
   ]
  },
  {
   "cell_type": "code",
   "execution_count": null,
   "metadata": {},
   "outputs": [],
   "source": []
  },
  {
   "cell_type": "code",
   "execution_count": null,
   "metadata": {},
   "outputs": [],
   "source": []
  },
  {
   "cell_type": "code",
   "execution_count": 32,
   "metadata": {},
   "outputs": [],
   "source": [
    "df['is_active'] = False\n",
    "sstrs = ['Перекресток', 'Айкрафт', 'Кантата', '36', 'Зоогалерея',  'Билайн', 'Связной',\n",
    "        'tele','Yota','Simple', 'Линзмастер']\n",
    "\n",
    "for sstr in map(lambda x: x.lower(), sstrs):\n",
    "    search_ind = df.short_name.str.lower().str.contains(sstr)\n",
    "    if search_ind.sum()==1:\n",
    "        df.loc[search_ind, 'is_active'] = True\n",
    "    else:\n",
    "        print(sstr, search_ind.sum())"
   ]
  },
  {
   "cell_type": "code",
   "execution_count": 37,
   "metadata": {},
   "outputs": [],
   "source": [
    "df.to_pickle('metropolis_to_load.pickle')"
   ]
  },
  {
   "cell_type": "code",
   "execution_count": 16,
   "metadata": {},
   "outputs": [],
   "source": [
    "import pickle\n",
    "in_2_label = pickle.load(open('in_2_label.pkl', 'rb'))"
   ]
  },
  {
   "cell_type": "code",
   "execution_count": 17,
   "metadata": {},
   "outputs": [
    {
     "data": {
      "text/plain": [
       "set()"
      ]
     },
     "execution_count": 17,
     "metadata": {},
     "output_type": "execute_result"
    }
   ],
   "source": [
    "set(in_2_label.keys()) - set(intent_to_node.keys())"
   ]
  },
  {
   "cell_type": "code",
   "execution_count": 21,
   "metadata": {},
   "outputs": [
    {
     "data": {
      "text/plain": [
       "{21, 26, 27}"
      ]
     },
     "execution_count": 21,
     "metadata": {},
     "output_type": "execute_result"
    }
   ],
   "source": [
    "set(range(4, 31)) - set(intent_to_node.values())"
   ]
  },
  {
   "cell_type": "code",
   "execution_count": null,
   "metadata": {},
   "outputs": [],
   "source": []
  }
 ],
 "metadata": {
  "kernelspec": {
   "display_name": "Python 3",
   "language": "python",
   "name": "python3"
  },
  "language_info": {
   "codemirror_mode": {
    "name": "ipython",
    "version": 3
   },
   "file_extension": ".py",
   "mimetype": "text/x-python",
   "name": "python",
   "nbconvert_exporter": "python",
   "pygments_lexer": "ipython3",
   "version": "3.7.6"
  }
 },
 "nbformat": 4,
 "nbformat_minor": 4
}
